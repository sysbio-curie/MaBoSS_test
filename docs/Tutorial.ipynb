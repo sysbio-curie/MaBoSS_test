{
 "cells": [
  {
   "cell_type": "markdown",
   "metadata": {},
   "source": [
    "# MaBoSS_test tutorial\n",
    "\n",
    "The following tutorial uses p53/MDM2 model as a test case for illustrating the maboss_test framework."
   ]
  },
  {
   "cell_type": "markdown",
   "metadata": {},
   "source": [
    "## Model description:\n",
    "We consider a published model of p53 response to DNA damage (PMID:19233211). p53 interacts with Mdm2, which appears in two forms, cytoplasmic and nuclear. On one hand, p53 upregulates the level of cytoplasmic Mdm2 which is then transported into the nucleus and inhibits the export of nuclear Mdm2. On the other hand, Mdm2 facilitates the degradation of p53 through ubiquitination. In the model, stress regulates the level of DNA damage, which in turn participates in the degradation process of Mdm2. p53 inhibits the DNA damage signal by promoting DNA repair.\n",
    "\n",
    "The model can be found in the MaBoSS repository at the following link:\n",
    "https://maboss.curie.fr/"
   ]
  },
  {
   "cell_type": "markdown",
   "metadata": {},
   "source": [
    "# Getting started"
   ]
  },
  {
   "cell_type": "markdown",
   "metadata": {},
   "source": [
    "### Installation\n",
    "Install the maboss and maboss_test libraries with the following commands:\n",
    "* pip/pip3 install maboss\n",
    "* pip/pip3 install maboss_test"
   ]
  },
  {
   "cell_type": "code",
   "execution_count": 3,
   "metadata": {},
   "outputs": [],
   "source": [
    "import maboss\n",
    "import maboss_test"
   ]
  },
  {
   "cell_type": "markdown",
   "metadata": {},
   "source": [
    "### Import the model\n",
    "\n",
    "Load the model to test in the maboss format (.bnd and .cfg files)"
   ]
  },
  {
   "cell_type": "code",
   "execution_count": 4,
   "metadata": {},
   "outputs": [],
   "source": [
    "p53_Mdm2_model = maboss.load(\"p53_Mdm2.bnd\", \"p53_Mdm2.cfg\")   "
   ]
  },
  {
   "cell_type": "markdown",
   "metadata": {},
   "source": [
    "The stable states of the model are:"
   ]
  },
  {
   "cell_type": "code",
   "execution_count": 5,
   "metadata": {},
   "outputs": [
    {
     "data": {
      "text/html": [
       "<div>\n",
       "<style scoped>\n",
       "    .dataframe tbody tr th:only-of-type {\n",
       "        vertical-align: middle;\n",
       "    }\n",
       "\n",
       "    .dataframe tbody tr th {\n",
       "        vertical-align: top;\n",
       "    }\n",
       "\n",
       "    .dataframe thead th {\n",
       "        text-align: right;\n",
       "    }\n",
       "</style>\n",
       "<table border=\"1\" class=\"dataframe\">\n",
       "  <thead>\n",
       "    <tr style=\"text-align: right;\">\n",
       "      <th></th>\n",
       "      <th>FP</th>\n",
       "      <th>Proba</th>\n",
       "      <th>State</th>\n",
       "      <th>p53_b1</th>\n",
       "      <th>Mdm2nuc</th>\n",
       "      <th>p53_b2</th>\n",
       "      <th>Mdm2cyt_b1</th>\n",
       "      <th>Mdm2cyt_b2</th>\n",
       "      <th>DNAdam</th>\n",
       "    </tr>\n",
       "  </thead>\n",
       "  <tbody>\n",
       "    <tr>\n",
       "      <th>0</th>\n",
       "      <td>#1</td>\n",
       "      <td>1</td>\n",
       "      <td>Mdm2nuc -- Mdm2cyt_b1</td>\n",
       "      <td>0</td>\n",
       "      <td>1</td>\n",
       "      <td>0</td>\n",
       "      <td>1</td>\n",
       "      <td>0</td>\n",
       "      <td>0</td>\n",
       "    </tr>\n",
       "  </tbody>\n",
       "</table>\n",
       "</div>"
      ],
      "text/plain": [
       "   FP  Proba                  State  p53_b1  Mdm2nuc  p53_b2  Mdm2cyt_b1  \\\n",
       "0  #1      1  Mdm2nuc -- Mdm2cyt_b1       0        1       0           1   \n",
       "\n",
       "   Mdm2cyt_b2  DNAdam  \n",
       "0           0       0  "
      ]
     },
     "execution_count": 5,
     "metadata": {},
     "output_type": "execute_result"
    }
   ],
   "source": [
    "results = p53_Mdm2_model.run()\n",
    "results.get_fptable()"
   ]
  },
  {
   "cell_type": "markdown",
   "metadata": {},
   "source": [
    "### Create the object to perform the tests\n",
    "Build an instance of the MaBoSSTestCase class, linked to 'p53_Mdm2_model', with the ''detailed output'' in the following way: "
   ]
  },
  {
   "cell_type": "code",
   "execution_count": 8,
   "metadata": {},
   "outputs": [],
   "source": [
    "test_p53_Mdm2 = maboss_test.MaBoSSTestCase(p53_Mdm2_model)"
   ]
  },
  {
   "cell_type": "markdown",
   "metadata": {},
   "source": [
    "Build another instance with the ''unit testing'' output putting the default argument verbose equal to False:"
   ]
  },
  {
   "cell_type": "code",
   "execution_count": 9,
   "metadata": {},
   "outputs": [],
   "source": [
    "test_p53_Mdm2_mute = maboss_test.MaBoSSTestCase(p53_Mdm2_model, verbose = False)"
   ]
  },
  {
   "cell_type": "markdown",
   "metadata": {},
   "source": [
    "# MaBoSSTestCase methods"
   ]
  },
  {
   "cell_type": "markdown",
   "metadata": {},
   "source": [
    "### .assertStableStateProbabilityEvolution()"
   ]
  },
  {
   "cell_type": "markdown",
   "metadata": {},
   "source": [
    "This function will simulate the wild type model and the model with the given mutations, both with the initial conditions I_C. It will then compare simulation results and check if the given stable state is evolving in the indicated direction. If not correct, this test will fail by raising an exception.\n",
    "\n",
    "Parameters:\t\n",
    "\n",
    "   * mutations (dict) – The mutations to apply to the model\n",
    "   * I_C – Initial conditions with which to simulate the model, it may be a list or a dictionary\n",
    "   * state (dict) – The state to evaluate\n",
    "   * direction (string) – The direction of the evolution of the given state, it may be: ‘increase’, ‘decrease’ or ‘stable’ \n",
    "   * digits (int): The number of digits you want to keep during the comparison\n",
    "\n"
   ]
  },
  {
   "cell_type": "markdown",
   "metadata": {},
   "source": [
    "The stable states of the model are:"
   ]
  },
  {
   "cell_type": "code",
   "execution_count": 10,
   "metadata": {},
   "outputs": [],
   "source": [
    "s_state = {'p53_b1':0, 'Mdm2cyt_b1':1, 'Mdm2nuc':1, 'DNAdam':0}"
   ]
  },
  {
   "cell_type": "markdown",
   "metadata": {},
   "source": [
    "\"Assert that: after p53 inhibition, the probability to observe s_state decreases.\""
   ]
  },
  {
   "cell_type": "code",
   "execution_count": 17,
   "metadata": {},
   "outputs": [
    {
     "name": "stdout",
     "output_type": "stream",
     "text": [
      "Care, you did not changed any initial condition!\n",
      "True!  \n",
      "The new probability of reaching the stable state is: 0.4934 \n",
      "The old one is: 1\n"
     ]
    }
   ],
   "source": [
    "test_p53_Mdm2.assertStableStateProbabilityEvolution({'p53_b1':'OFF'}, {}, s_state, 'decrease')"
   ]
  },
  {
   "cell_type": "code",
   "execution_count": 18,
   "metadata": {},
   "outputs": [
    {
     "name": "stdout",
     "output_type": "stream",
     "text": [
      "... OK\n"
     ]
    }
   ],
   "source": [
    "test_p53_Mdm2_mute.assertStableStateProbabilityEvolution({'p53_b1':'OFF'}, {}, s_state, 'decrease')"
   ]
  },
  {
   "cell_type": "markdown",
   "metadata": {},
   "source": [
    "\"Assert that: after Mdm2cyt_b2 activation the probability to observe s_state increases.\""
   ]
  },
  {
   "cell_type": "code",
   "execution_count": 14,
   "metadata": {},
   "outputs": [
    {
     "name": "stdout",
     "output_type": "stream",
     "text": [
      "Care, you did not changed any initial condition!\n",
      "False!  \n",
      "The new probability of reaching the stable state is: 0.6831 \n",
      "The old one is: 1\n"
     ]
    }
   ],
   "source": [
    "test_p53_Mdm2.assertStableStateProbabilityEvolution({'Mdm2cyt_b2':'ON'}, {}, s_state, 'increase')"
   ]
  },
  {
   "cell_type": "code",
   "execution_count": 19,
   "metadata": {},
   "outputs": [
    {
     "name": "stdout",
     "output_type": "stream",
     "text": [
      "False is not true\n"
     ]
    }
   ],
   "source": [
    "test_p53_Mdm2_mute.assertStableStateProbabilityEvolution({'Mdm2cyt_b2':'ON'}, {}, s_state, 'increase')"
   ]
  },
  {
   "cell_type": "markdown",
   "metadata": {},
   "source": [
    "### .assertStateProbabilityEvolution()\n",
    "This function will simulate the wild type model and the model with the given mutations, both with the initial conditions I_C. It will then compare simulation results and check if the given state is evolving in the indicated direction. If not correct, this test will fail by raising an exception.\n",
    "\n",
    "(Note: the only difference with the previous function is that here the method will look for all the states and not only for the stable ones)\n",
    "\n",
    "Parameters:\t\n",
    "\n",
    "   * mutations (dict) – The mutations to apply to the model\n",
    "   * I_C – Initial conditions with which to simulate the model, it may be a list or a dictionary\n",
    "   * state (dict) – The state to evaluate\n",
    "   * direction (string) – The direction of the evolution of the given state, it may be: ‘increase’, ‘decrease’   or ‘stable’ \n",
    "   * int digits (int):  The number of digits you want to keep during the comparison\n"
   ]
  },
  {
   "cell_type": "markdown",
   "metadata": {},
   "source": [
    "''Assert that: after the inhibition of Mdm2cyt the probability to observe p53_b1 active increases.''"
   ]
  },
  {
   "cell_type": "code",
   "execution_count": 20,
   "metadata": {},
   "outputs": [
    {
     "name": "stdout",
     "output_type": "stream",
     "text": [
      "Care, you did not changed any initial condition!\n",
      "True!  \n",
      "The new probability of reaching the state is: 1.0 \n",
      "The old one is: 0\n"
     ]
    }
   ],
   "source": [
    "test_p53_Mdm2.assertStateProbabilityEvolution({'Mdm2cyt_b1':'OFF'}, {}, {'p53_b1':1}, 'increase')"
   ]
  },
  {
   "cell_type": "code",
   "execution_count": 52,
   "metadata": {},
   "outputs": [
    {
     "name": "stdout",
     "output_type": "stream",
     "text": [
      "... OK\n"
     ]
    }
   ],
   "source": [
    "test_p53_Mdm2_mute.assertStateProbabilityEvolution({'Mdm2cyt_b1':'OFF'}, {}, {'p53_b2':1}, 'increase')"
   ]
  },
  {
   "cell_type": "markdown",
   "metadata": {},
   "source": [
    "''Assert that: after the inhibition of Mdm2cyt the probability to observe p53_b1 active decreases.''"
   ]
  },
  {
   "cell_type": "code",
   "execution_count": 21,
   "metadata": {},
   "outputs": [
    {
     "name": "stdout",
     "output_type": "stream",
     "text": [
      "Care, you did not changed any initial condition!\n",
      "False!  \n",
      "The new probability of reaching the state is: 1.0 \n",
      "The old one is: 0\n"
     ]
    }
   ],
   "source": [
    "test_p53_Mdm2.assertStateProbabilityEvolution({'Mdm2cyt_b1':'OFF'}, {}, {'p53_b1':1}, 'decrease')"
   ]
  },
  {
   "cell_type": "code",
   "execution_count": 22,
   "metadata": {},
   "outputs": [
    {
     "name": "stdout",
     "output_type": "stream",
     "text": [
      "False is not true\n"
     ]
    }
   ],
   "source": [
    "test_p53_Mdm2_mute.assertStateProbabilityEvolution({'Mdm2cyt_b1':'OFF'}, {}, {'p53_b1':1}, 'decrease')"
   ]
  },
  {
   "cell_type": "markdown",
   "metadata": {},
   "source": [
    "### .assertNodesDependencies()\n",
    "\n",
    "This function will simulate the model with the given mutations. It will then extract the stable states of the model in which the activity of the nodes in condition is satisfied. It will then check that, for each selected state, the values of the nodes in nodes_expected is satisfied. If not correct, this test will fail by raising an exception.\n",
    "\n",
    "Parameters:\t\n",
    "\n",
    "   * mutations (dict) – The mutations to apply to the model\n",
    "   * condition (dict) – A list of nodes with a specifc value assigned (0:inactive or 1:active) that a state has to respect in order to be selected\n",
    "   * nodes_expected (dict) – A list of nodes with a specifc value assigned (0:inactive or 1:active) that all the selected states have to respect\n"
   ]
  },
  {
   "cell_type": "markdown",
   "metadata": {},
   "source": [
    "\"Assert that in all the stable states in which Mdm2cyt_b1 is active,  Mdm2nuc is active too.\""
   ]
  },
  {
   "cell_type": "code",
   "execution_count": 23,
   "metadata": {},
   "outputs": [
    {
     "name": "stdout",
     "output_type": "stream",
     "text": [
      "Care, you did not insert mutations!\n",
      "True! \n",
      "All the states that satisfy:  {'Mdm2cyt_b1': 1}  have:  {'Mdm2nuc': 1}\n"
     ]
    }
   ],
   "source": [
    "test_p53_Mdm2.assertNodesDependencies({}, {'Mdm2cyt_b1':1}, {'Mdm2nuc':1})"
   ]
  },
  {
   "cell_type": "code",
   "execution_count": 24,
   "metadata": {},
   "outputs": [
    {
     "name": "stdout",
     "output_type": "stream",
     "text": [
      "... OK\n"
     ]
    }
   ],
   "source": [
    "test_p53_Mdm2_mute.assertNodesDependencies({}, {'Mdm2cyt_b1':1}, {'Mdm2nuc':1})"
   ]
  },
  {
   "cell_type": "markdown",
   "metadata": {},
   "source": [
    "\"Assert that in all the stable states in which Mdm2cyt_b1 is active,  p53_b1 is active too.\""
   ]
  },
  {
   "cell_type": "code",
   "execution_count": 25,
   "metadata": {},
   "outputs": [
    {
     "name": "stdout",
     "output_type": "stream",
     "text": [
      "Care, you did not insert mutations!\n",
      "False! \n",
      "The states with  {'Mdm2cyt_b1': 1}  are : \n",
      "\n",
      "Probability =  1 \n",
      "State:  ['Mdm2nuc', 'Mdm2cyt_b1']\n",
      "\n",
      "Of these, those with  {'p53_b1': 1}  are: \n",
      "No one\n"
     ]
    }
   ],
   "source": [
    "test_p53_Mdm2.assertNodesDependencies({}, {'Mdm2cyt_b1':1}, {'p53_b1':1})"
   ]
  },
  {
   "cell_type": "code",
   "execution_count": 26,
   "metadata": {},
   "outputs": [
    {
     "name": "stdout",
     "output_type": "stream",
     "text": [
      "{1: ['Mdm2nuc', 'Mdm2cyt_b1']} != None\n"
     ]
    }
   ],
   "source": [
    "test_p53_Mdm2_mute.assertNodesDependencies({}, {'Mdm2cyt_b1':1}, {'p53_b1':1})"
   ]
  },
  {
   "cell_type": "code",
   "execution_count": null,
   "metadata": {},
   "outputs": [],
   "source": []
  }
 ],
 "metadata": {
  "kernelspec": {
   "display_name": "Python 3",
   "language": "python",
   "name": "python3"
  },
  "language_info": {
   "codemirror_mode": {
    "name": "ipython",
    "version": 3
   },
   "file_extension": ".py",
   "mimetype": "text/x-python",
   "name": "python",
   "nbconvert_exporter": "python",
   "pygments_lexer": "ipython3",
   "version": "3.7.3"
  }
 },
 "nbformat": 4,
 "nbformat_minor": 2
}
